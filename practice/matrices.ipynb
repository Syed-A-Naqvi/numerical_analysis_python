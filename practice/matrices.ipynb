{
 "cells": [
  {
   "cell_type": "code",
   "execution_count": 2,
   "metadata": {},
   "outputs": [],
   "source": [
    "import numpy as np\n",
    "import scipy.linalg as lin"
   ]
  },
  {
   "cell_type": "code",
   "execution_count": 3,
   "metadata": {},
   "outputs": [
    {
     "name": "stdout",
     "output_type": "stream",
     "text": [
      "The matrix A=\n",
      "[[1 2 3]\n",
      " [4 5 6]]\n",
      "\n",
      "\n"
     ]
    }
   ],
   "source": [
    "A = np.array([[1,2,3],[4,5,6]]) #matrices are defined as nump arrays\n",
    "\n",
    "print('The matrix A=')\n",
    "print(A)\n",
    "print('\\n')"
   ]
  },
  {
   "cell_type": "code",
   "execution_count": 4,
   "metadata": {},
   "outputs": [
    {
     "name": "stdout",
     "output_type": "stream",
     "text": [
      "The component a13 of A = 3\n",
      "\n"
     ]
    }
   ],
   "source": [
    "# for accessing individual entries of A use standard python indexing\n",
    "a13 = A[0][2]\n",
    "# or\n",
    "a13 = A[0,2]\n",
    "\n",
    "print(f\"The component a13 of A = {a13}\\n\")"
   ]
  },
  {
   "cell_type": "code",
   "execution_count": 5,
   "metadata": {},
   "outputs": [
    {
     "name": "stdout",
     "output_type": "stream",
     "text": [
      "The transpose of A =\n",
      "[[1 4]\n",
      " [2 5]\n",
      " [3 6]]\n"
     ]
    }
   ],
   "source": [
    "# finding the transpose of A\n",
    "B = A.T\n",
    "# or\n",
    "B = np.transpose(A)\n",
    "\n",
    "print('The transpose of A =')\n",
    "print(B) "
   ]
  },
  {
   "cell_type": "code",
   "execution_count": 6,
   "metadata": {},
   "outputs": [
    {
     "name": "stdout",
     "output_type": "stream",
     "text": [
      "The sum of A and 2A is =\n",
      "[[ 3  6  9]\n",
      " [12 15 18]]\n"
     ]
    }
   ],
   "source": [
    "# to calculate the sum of matrices, the dimensions must be the same\n",
    "\n",
    "C = np.add(A,2*A)\n",
    "# or\n",
    "C = A + 2*A\n",
    "\n",
    "print('The sum of A and 2A is =')\n",
    "print(C)"
   ]
  },
  {
   "cell_type": "code",
   "execution_count": 7,
   "metadata": {},
   "outputs": [
    {
     "name": "stdout",
     "output_type": "stream",
     "text": [
      "Are the dimensions for matrix multiplication correct?\n",
      "True\n",
      "\n",
      "The product of A and B =\n",
      "[[14 32]\n",
      " [32 77]]\n",
      "\n"
     ]
    }
   ],
   "source": [
    "# multiply two matrices (dimensions must allow for the operation)\n",
    "\n",
    "C = np.matmul(A,B)\n",
    "# or\n",
    "C =np.dot(A,B) # this is not preferred\n",
    "# or\n",
    "C = A @ B\n",
    "\n",
    "# it is important to remember that AB does not always equal BA\n",
    "# when it comes to matrix multiplication\n",
    "\n",
    "print(\"Are the dimensions for matrix multiplication correct?\")\n",
    "print(np.shape(A)[1]==np.shape(B)[0]) # checking if number of columns in A\n",
    "print()                                # equals number of rows in B\n",
    "\n",
    "print(\"The product of A and B =\")\n",
    "print(C)\n",
    "print()"
   ]
  },
  {
   "cell_type": "code",
   "execution_count": 13,
   "metadata": {},
   "outputs": [
    {
     "name": "stdout",
     "output_type": "stream",
     "text": [
      "New A =\n",
      "[[-7 -5  3]\n",
      " [-1 -8  2]\n",
      " [ 4 -1  0]]\n",
      "\n",
      "The determinant of A = 45.0\n",
      "\n",
      "The inverse of A = \n",
      "[[ 0.04444444 -0.06666667  0.31111111]\n",
      " [ 0.17777778 -0.26666667  0.24444444]\n",
      " [ 0.73333333 -0.6         1.13333333]]\n",
      "\n",
      "The product of A and its inverse is the identity\n",
      "[[ 1.00000000e+00 -5.55111512e-17  2.77555756e-17]\n",
      " [ 0.00000000e+00  1.00000000e+00  0.00000000e+00]\n",
      " [ 8.88178420e-16  2.22044605e-16  1.00000000e+00]]\n"
     ]
    }
   ],
   "source": [
    "A = np.array([[-7,-5,3],[-1,-8,2],[4,-1,0]])\n",
    "\n",
    "# find the determinant of A (A needs to be square)\n",
    "A_det = lin.det(A)\n",
    "\n",
    "\n",
    "# finding the inverse of A (A needs to be square)\n",
    "A_inv = lin.inv(A)\n",
    "\n",
    "\n",
    "print('New A =')\n",
    "print(A)\n",
    "print()\n",
    "print(f\"The determinant of A = {A_det}\")\n",
    "print()\n",
    "print('The inverse of A = ')\n",
    "print(A_inv)\n",
    "print()\n",
    "print('The product of A and its inverse is the identity')\n",
    "print(A_inv@A)\n",
    "\n",
    "# we can see here that using python to calculate the inverse generates\n",
    "# a matrix that intoduces a small amount of error since when A is multiplied\n",
    "# with its inverse we are getting very small values where there should be 0s"
   ]
  },
  {
   "cell_type": "code",
   "execution_count": 9,
   "metadata": {},
   "outputs": [
    {
     "name": "stdout",
     "output_type": "stream",
     "text": [
      "The 4x4 identity matrix\n",
      "I\n",
      "and the 3x3 zero matrix\n",
      "[[0. 0. 0.]\n",
      " [0. 0. 0.]\n",
      " [0. 0. 0.]]\n",
      "\n"
     ]
    }
   ],
   "source": [
    "# the idenetity matrix\n",
    "I = np.identity(4)\n",
    "\n",
    "# the zero matrix\n",
    "Z_mat = np.zeros((3,3))\n",
    "\n",
    "print('The 4x4 identity matrix')\n",
    "print('I')\n",
    "print('and the 3x3 zero matrix')\n",
    "print(Z_mat)\n",
    "print()"
   ]
  },
  {
   "cell_type": "code",
   "execution_count": 10,
   "metadata": {},
   "outputs": [
    {
     "name": "stdout",
     "output_type": "stream",
     "text": [
      "The third unit vector is\n",
      "[[0.]\n",
      " [0.]\n",
      " [1.]\n",
      " [0.]]\n",
      "\n"
     ]
    }
   ],
   "source": [
    "# in order to retrieve a particular unit vecotr or coordinate vector\n",
    "# use python array slicing in order to extract a particular column from the\n",
    "# appropriate identity matrix\n",
    "\n",
    "e3 = np.identity(4)[:,[2]]\n",
    "\n",
    "print('The third unit vector is')\n",
    "print(e3)\n",
    "print()"
   ]
  },
  {
   "cell_type": "code",
   "execution_count": 11,
   "metadata": {},
   "outputs": [
    {
     "name": "stdout",
     "output_type": "stream",
     "text": [
      "Solving A x = b ...\n",
      "x =\n",
      "[[ 0.1372549 ]\n",
      " [-0.39215686]]\n",
      "\n",
      "[[1]\n",
      " [3]]\n",
      "[[1.]\n",
      " [3.]]\n"
     ]
    }
   ],
   "source": [
    "# we will use a built in function to solve a linear system and then later\n",
    "# work to understand how python actually computes the solution\n",
    "\n",
    "# solve A x = b\n",
    "\n",
    "A = np.array([[-7,-5],[-1,-8]])\n",
    "b = np.array([[1],[3]])\n",
    "\n",
    "xx = lin.solve(A,b)\n",
    "\n",
    "print('Solving A x = b ...')\n",
    "print('x =')\n",
    "print(xx)\n",
    "print()\n",
    "\n",
    "\n",
    "# demonstrating the accuracy of the computed solution\n",
    "print(b)\n",
    "print(A @ xx)"
   ]
  },
  {
   "cell_type": "code",
   "execution_count": 12,
   "metadata": {},
   "outputs": [
    {
     "name": "stdout",
     "output_type": "stream",
     "text": [
      "[[1. 0. 0. 0.]\n",
      " [2. 1. 0. 0.]\n",
      " [4. 3. 1. 0.]\n",
      " [3. 4. 1. 1.]] \n",
      " [[2 1 1 0]\n",
      " [0 1 1 1]\n",
      " [0 0 2 2]\n",
      " [0 0 0 2]] \n",
      "\n",
      "[[0. 0. 0. 0.]\n",
      " [0. 0. 0. 0.]\n",
      " [0. 0. 0. 0.]\n",
      " [0. 0. 0. 0.]]\n"
     ]
    }
   ],
   "source": [
    "# LU decomposition without pivoting\n",
    "\n",
    "def LU_NoPivot(A):\n",
    "    \n",
    "    n = np.shape(A)[0] # extracting number of rows of A\n",
    "    U = np.copy(A)\n",
    "    L = np.identity(n)\n",
    "\n",
    "    for jj in range(n-1):\n",
    "        for ii in range(jj+1,n):\n",
    "            L[ii,jj] = U[ii,jj]/U[jj,jj]\n",
    "            U[ii,:] = U[ii,:]-L[ii,jj] * U[jj,:]\n",
    "\n",
    "    return L,U\n",
    "\n",
    "A = np.array([[2,1,1,0],[4,3,3,1],[8,7,9,5],[6,7,9,8]])\n",
    "\n",
    "L,U = LU_NoPivot(A)\n",
    "print(L,'\\n',U,'\\n')\n",
    "print(np.matmul(L,U)-A)\n",
    "\n"
   ]
  }
 ],
 "metadata": {
  "kernelspec": {
   "display_name": "base",
   "language": "python",
   "name": "python3"
  },
  "language_info": {
   "codemirror_mode": {
    "name": "ipython",
    "version": 3
   },
   "file_extension": ".py",
   "mimetype": "text/x-python",
   "name": "python",
   "nbconvert_exporter": "python",
   "pygments_lexer": "ipython3",
   "version": "3.9.16"
  },
  "orig_nbformat": 4,
  "vscode": {
   "interpreter": {
    "hash": "55c1feb0b5714a9c07eb75dd1aa1721b81bc6332dd76e5272ce4feabb71e0803"
   }
  }
 },
 "nbformat": 4,
 "nbformat_minor": 2
}

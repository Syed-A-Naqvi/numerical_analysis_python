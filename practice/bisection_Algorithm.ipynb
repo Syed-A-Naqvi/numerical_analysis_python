{
 "cells": [
  {
   "cell_type": "code",
   "execution_count": 5,
   "metadata": {},
   "outputs": [
    {
     "name": "stdout",
     "output_type": "stream",
     "text": [
      "iteration 1, err=1.5000e+00 and res=1.4293e+00\n",
      "iteration 2, err=7.5000e-01 and res=1.8311e-02\n",
      "iteration 3, err=3.7500e-01 and res=5.5551e-01\n",
      "iteration 4, err=1.8750e-01 and res=2.8342e-01\n",
      "iteration 5, err=9.3750e-02 and res=1.3604e-01\n",
      "iteration 6, err=4.6875e-02 and res=5.9700e-02\n",
      "iteration 7, err=2.3438e-02 and res=2.0900e-02\n",
      "iteration 8, err=1.1719e-02 and res=1.3451e-03\n",
      "iteration 9, err=5.8594e-03 and res=8.4704e-03\n",
      "iteration 10, err=2.9297e-03 and res=3.5594e-03\n",
      "iteration 11, err=1.4648e-03 and res=1.1064e-03\n",
      "iteration 12, err=7.3242e-04 and res=1.1960e-04\n",
      "\n",
      " x* = 0.739013671875\n"
     ]
    }
   ],
   "source": [
    "#  Bisection code as programmed in Lecture 3 (by G. Lewis and attending students)\n",
    "#  Input: function f, starting points a0 and b0,\n",
    "#  also need max iteration k_max, tolerances eps_x, eps_f\n",
    "import math\n",
    "import numpy as np\n",
    "\n",
    "def bisect(f,a0,b0,k_max,eps_x,eps_f):\n",
    "    \n",
    "    conv = False                        # flag for convergence, default is \"not converged\"\n",
    "    \n",
    "    if ( f(a0)*f(b0) > 0):              # check to see whether we can guarantee convergence via IVT condition\n",
    "        print('Error. f(a0) f(b0) > 0: Starting condition not satisfied.')\n",
    "        return None, None, conv         # abort and print message if we can't guarantee convergence\n",
    "    \n",
    "    a = a0\n",
    "    b = b0\n",
    "    \n",
    "    for k in range(k_max):              # loop over at most k_max bisection steps\n",
    "        c = (a + b)/2.0                 # find the current midpoint\n",
    "        f_mid = f(c)                    # compute the function value at the midpoint\n",
    "        f_left=f(a)                     # compute the function value at the current left boundary\n",
    "        if (f_mid*f_left > 0):          # if they have the same sign...\n",
    "            a=c                         # update the left boundary, otherwise...\n",
    "        else:\n",
    "            b=c                         # update the right boundary\n",
    "        max_err = abs(b-a)              # compute the maximal error and the residual\n",
    "        res = abs(f_mid)\n",
    "  \n",
    "        print(f'iteration {k+1}, err={max_err:.4e} and res={res:.4e}')  # Since k starts at 0, I added 1 to k to make the first iteration 1\n",
    "\n",
    "        if (max_err < eps_x) and (res < eps_f):     # if both are less than their tolerance, stop iterations\n",
    "            conv=True                               # set the convergence flag to \"converged\"\n",
    "            break\n",
    "\n",
    "    if (conv==False):                   # print warning if the iterations did not converge\n",
    "        print(f'No convergence after {k_max} interations')\n",
    "\n",
    "    return c,max_err,conv               # return the approximate solution, maximal error and convergence flag\n",
    "\n",
    "\n",
    "def f(x):                               # function definition of f(x), where we are solving f(x)=0\n",
    "    return (math.cos(x)-x)\n",
    "\n",
    "a0 = 0                                # left end-point\n",
    "b0 = 3                                # right end-point\n",
    "k_max=100                               # maximum number of iterations\n",
    "eps_x = 1.0e-3                         # tolerance on x\n",
    "eps_f = 1.0                             # tolerance of function value\n",
    "\n",
    "xstar,err,conv=bisect(f,a0,b0,k_max,eps_x,eps_f)\n",
    "\n",
    "if (conv):\n",
    "    print(f'\\n x* = {xstar}')\n",
    "    \n",
    "    \n"
   ]
  }
 ],
 "metadata": {
  "kernelspec": {
   "display_name": "base",
   "language": "python",
   "name": "python3"
  },
  "language_info": {
   "codemirror_mode": {
    "name": "ipython",
    "version": 3
   },
   "file_extension": ".py",
   "mimetype": "text/x-python",
   "name": "python",
   "nbconvert_exporter": "python",
   "pygments_lexer": "ipython3",
   "version": "3.9.13"
  },
  "orig_nbformat": 4,
  "vscode": {
   "interpreter": {
    "hash": "55c1feb0b5714a9c07eb75dd1aa1721b81bc6332dd76e5272ce4feabb71e0803"
   }
  }
 },
 "nbformat": 4,
 "nbformat_minor": 2
}
